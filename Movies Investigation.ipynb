{
 "cells": [
  {
   "cell_type": "markdown",
   "metadata": {},
   "source": [
    "# Investigating 'TMDb movie data' \n",
    "\n",
    "# How highest grossing movies are related to highest user rated movies in terms of:\n",
    "### 1. Genres\n",
    "### 2. Keywords\n",
    "### 3. Release Date\n",
    "### 4. Cast\n",
    "### 5. Runtime\n"
   ]
  },
  {
   "cell_type": "code",
   "execution_count": 1,
   "metadata": {
    "collapsed": true
   },
   "outputs": [],
   "source": [
    "#importing libaries\n",
    "import pandas as pd\n",
    "import numpy as np\n",
    "\n",
    "%matplotlib inline\n",
    "\n",
    "import matplotlib.pyplot as plt\n",
    "import seaborn as sns"
   ]
  },
  {
   "cell_type": "code",
   "execution_count": 2,
   "metadata": {
    "collapsed": false
   },
   "outputs": [],
   "source": [
    "movies = pd.read_csv('tmdb-movies.csv')"
   ]
  },
  {
   "cell_type": "code",
   "execution_count": 3,
   "metadata": {
    "collapsed": false
   },
   "outputs": [],
   "source": [
    "#adding commas to seprate, columns of dtype='float' by thousands \n",
    "pd.set_option('display.float_format','{:,}'.format)"
   ]
  },
  {
   "cell_type": "code",
   "execution_count": 4,
   "metadata": {
    "collapsed": false
   },
   "outputs": [
    {
     "data": {
      "text/plain": [
       "Index([u'id', u'imdb_id', u'popularity', u'budget', u'revenue',\n",
       "       u'original_title', u'cast', u'homepage', u'director', u'tagline',\n",
       "       u'keywords', u'overview', u'runtime', u'genres',\n",
       "       u'production_companies', u'release_date', u'vote_count',\n",
       "       u'vote_average', u'release_year', u'budget_adj', u'revenue_adj'],\n",
       "      dtype='object')"
      ]
     },
     "execution_count": 4,
     "metadata": {},
     "output_type": "execute_result"
    }
   ],
   "source": [
    "movies.columns"
   ]
  },
  {
   "cell_type": "markdown",
   "metadata": {},
   "source": [
    "According to data, final two columns ending with '_adj' show the budget and revenue of the associated movie in term of 2010 dollars, accounting for inflation over time.\n",
    "\n",
    "Therefore, for comparing samples.\n",
    "\n",
    "1. Drop the 'budget' and 'revenue' columns\n",
    "\n",
    "2. Remove '_adj' from the final two column names to make dataframe easy to investigate."
   ]
  },
  {
   "cell_type": "code",
   "execution_count": 5,
   "metadata": {
    "collapsed": false
   },
   "outputs": [],
   "source": [
    "#removing 'budget' and 'revenue' columns from dataframe\n",
    "movies.drop(['budget','revenue'], axis = 'columns',inplace = True)"
   ]
  },
  {
   "cell_type": "code",
   "execution_count": 6,
   "metadata": {
    "collapsed": true
   },
   "outputs": [],
   "source": [
    "#removing '_adj' from names of last two columns\n",
    "movies.rename(columns = {'budget_adj': 'budget', 'revenue_adj':'revenue'},inplace = True)"
   ]
  },
  {
   "cell_type": "code",
   "execution_count": 7,
   "metadata": {
    "collapsed": false
   },
   "outputs": [
    {
     "data": {
      "text/plain": [
       "Index([u'id', u'imdb_id', u'popularity', u'original_title', u'cast',\n",
       "       u'homepage', u'director', u'tagline', u'keywords', u'overview',\n",
       "       u'runtime', u'genres', u'production_companies', u'release_date',\n",
       "       u'vote_count', u'vote_average', u'release_year', u'budget', u'revenue'],\n",
       "      dtype='object')"
      ]
     },
     "execution_count": 7,
     "metadata": {},
     "output_type": "execute_result"
    }
   ],
   "source": [
    "movies.columns"
   ]
  },
  {
   "cell_type": "markdown",
   "metadata": {},
   "source": [
    "## Cleaning 'movies' database:\n",
    "## 1. Check for duplicated rows "
   ]
  },
  {
   "cell_type": "code",
   "execution_count": 8,
   "metadata": {
    "collapsed": false
   },
   "outputs": [
    {
     "data": {
      "text/plain": [
       "1"
      ]
     },
     "execution_count": 8,
     "metadata": {},
     "output_type": "execute_result"
    }
   ],
   "source": [
    "#checking for duplicated rows\n",
    "movies.duplicated().sum()"
   ]
  },
  {
   "cell_type": "code",
   "execution_count": 9,
   "metadata": {
    "collapsed": false
   },
   "outputs": [],
   "source": [
    "#removing duplicated row \n",
    "movies.drop_duplicates(inplace = True)"
   ]
  },
  {
   "cell_type": "markdown",
   "metadata": {},
   "source": [
    "## 2. Check for undesired values in:\n",
    "Defination of Undesired values:\n",
    "\n",
    "i) missing values\n",
    "\n",
    "ii) values that are less than or equal to 0"
   ]
  },
  {
   "cell_type": "code",
   "execution_count": 10,
   "metadata": {
    "collapsed": false
   },
   "outputs": [],
   "source": [
    "#function to check missing values and less than equal to zero values\n",
    "def undesired_values(df,field_name):\n",
    "    null_values = df[field_name].isnull().sum()\n",
    "    zeros_and_negative = df[df[field_name] <= 0].shape[0]\n",
    "    \n",
    "    print field_name + \" column contains {} missing values\".format(null_values) + \\\n",
    "    \" and {} negative or zero values\".format(zeros_and_negative)\n",
    "    "
   ]
  },
  {
   "cell_type": "markdown",
   "metadata": {},
   "source": [
    "### a) budget column "
   ]
  },
  {
   "cell_type": "code",
   "execution_count": 11,
   "metadata": {
    "collapsed": false
   },
   "outputs": [
    {
     "name": "stdout",
     "output_type": "stream",
     "text": [
      "budget column contains 0 missing values and 5696 negative or zero values\n"
     ]
    }
   ],
   "source": [
    "undesired_values(movies,'budget')"
   ]
  },
  {
   "cell_type": "markdown",
   "metadata": {},
   "source": [
    "### b) revenue column"
   ]
  },
  {
   "cell_type": "code",
   "execution_count": 12,
   "metadata": {
    "collapsed": false
   },
   "outputs": [
    {
     "name": "stdout",
     "output_type": "stream",
     "text": [
      "revenue column contains 0 missing values and 6016 negative or zero values\n"
     ]
    }
   ],
   "source": [
    "undesired_values(movies,'revenue')"
   ]
  },
  {
   "cell_type": "markdown",
   "metadata": {},
   "source": [
    "Both budget and revenue columns contains undesired values.\n",
    "To study to dataframe properly, remove all rows containing undesired values from budget and revenue columns."
   ]
  },
  {
   "cell_type": "code",
   "execution_count": 13,
   "metadata": {
    "collapsed": false
   },
   "outputs": [
    {
     "data": {
      "text/plain": [
       "(3854, 19)"
      ]
     },
     "execution_count": 13,
     "metadata": {},
     "output_type": "execute_result"
    }
   ],
   "source": [
    "#selecting movies with budget and revenue greater than 0\n",
    "movies = movies[(movies['budget'] > 0) & (movies['revenue'] > 0)]\n",
    "movies.shape"
   ]
  },
  {
   "cell_type": "markdown",
   "metadata": {},
   "source": [
    "### c) vote_average column "
   ]
  },
  {
   "cell_type": "code",
   "execution_count": 14,
   "metadata": {
    "collapsed": false
   },
   "outputs": [
    {
     "name": "stdout",
     "output_type": "stream",
     "text": [
      "vote_average column contains 0 missing values and 0 negative or zero values\n"
     ]
    }
   ],
   "source": [
    "undesired_values(movies,'vote_average')"
   ]
  },
  {
   "cell_type": "markdown",
   "metadata": {},
   "source": [
    "## Selection criteria of successful movies --> It should be highest grossing and highest user rated(vote_average) movie.\n",
    "\n",
    "### *Criteria to define highest grossing movie: It should have made profit of atleast 100 million dollars.\n",
    "\n",
    "### *Criteria to define highest rated movies: It should have 'vote_average' of atleast 7."
   ]
  },
  {
   "cell_type": "code",
   "execution_count": 15,
   "metadata": {
    "collapsed": false
   },
   "outputs": [],
   "source": [
    "profit = movies['revenue'] - (movies['budget'])\n",
    "successful_movies = movies[(movies['vote_average'] >=7) & (profit >=100000000)]"
   ]
  },
  {
   "cell_type": "code",
   "execution_count": 16,
   "metadata": {
    "collapsed": false
   },
   "outputs": [
    {
     "data": {
      "text/plain": [
       "(279, 19)"
      ]
     },
     "execution_count": 16,
     "metadata": {},
     "output_type": "execute_result"
    }
   ],
   "source": [
    "successful_movies.shape"
   ]
  },
  {
   "cell_type": "markdown",
   "metadata": {},
   "source": [
    "## Investigating the different characteristics of SUCCESSFUL MOVIES\n",
    "\n",
    "### 1st characteristic: GENRES"
   ]
  },
  {
   "cell_type": "code",
   "execution_count": 17,
   "metadata": {
    "collapsed": false
   },
   "outputs": [
    {
     "name": "stdout",
     "output_type": "stream",
     "text": [
      "genres column contains 0 missing values and 0 negative or zero values\n"
     ]
    }
   ],
   "source": [
    "#check for undesried values\n",
    "undesired_values(successful_movies,'genres')"
   ]
  },
  {
   "cell_type": "code",
   "execution_count": 18,
   "metadata": {
    "collapsed": true
   },
   "outputs": [],
   "source": [
    "#creating series of successful movies genres\n",
    "successful_multi_genres = successful_movies.genres"
   ]
  },
  {
   "cell_type": "code",
   "execution_count": 19,
   "metadata": {
    "collapsed": false,
    "scrolled": true
   },
   "outputs": [],
   "source": [
    "#creating series of multi-genres' frequency\n",
    "successful_multi_genres = successful_multi_genres.value_counts()"
   ]
  },
  {
   "cell_type": "code",
   "execution_count": 20,
   "metadata": {
    "collapsed": false
   },
   "outputs": [
    {
     "data": {
      "text/plain": [
       "164"
      ]
     },
     "execution_count": 20,
     "metadata": {},
     "output_type": "execute_result"
    }
   ],
   "source": [
    "successful_multi_genres.count()"
   ]
  },
  {
   "cell_type": "markdown",
   "metadata": {},
   "source": [
    "#### Since, total number of cross-genres are 164 and they all can't be plot on graph. Therefore studying only top 7 multi-genres. "
   ]
  },
  {
   "cell_type": "code",
   "execution_count": 21,
   "metadata": {
    "collapsed": false
   },
   "outputs": [
    {
     "data": {
      "text/plain": [
       "Drama                       23\n",
       "Drama|Romance                9\n",
       "Comedy|Drama|Romance         6\n",
       "Adventure|Fantasy|Family     6\n",
       "Animation|Family             6\n",
       "Crime|Drama|Thriller         6\n",
       "Drama|Crime                  5\n",
       "Name: genres, dtype: int64"
      ]
     },
     "execution_count": 21,
     "metadata": {},
     "output_type": "execute_result"
    }
   ],
   "source": [
    "successful_multi_genres.head(n=7)"
   ]
  },
  {
   "cell_type": "markdown",
   "metadata": {},
   "source": [
    "### Conclusion 1-a: \n",
    "#### i) Drama is part of most multi-genres\n",
    "#### ii) Drama-Romance is most popular multi-genre."
   ]
  },
  {
   "cell_type": "markdown",
   "metadata": {},
   "source": [
    "### Since movies genres are represented as multi-genres. Therefore,split them into main-genres and study them. "
   ]
  },
  {
   "cell_type": "code",
   "execution_count": 22,
   "metadata": {
    "collapsed": false
   },
   "outputs": [],
   "source": [
    "#function for ungrouping each row in pandas series\n",
    "def ungroup(df,field_name):\n",
    "    ungrouped = []\n",
    "    for _,cell in df[field_name].iteritems():\n",
    "        #creating list of grouped elements\n",
    "        group = cell.split('|')\n",
    "        \n",
    "        #iterating over each element in each group \n",
    "        for item in group:\n",
    "            ungrouped.append(item)\n",
    "    return pd.Series(ungrouped)"
   ]
  },
  {
   "cell_type": "code",
   "execution_count": 23,
   "metadata": {
    "collapsed": false
   },
   "outputs": [],
   "source": [
    "successful_main_genres = ungroup(successful_movies,'genres')"
   ]
  },
  {
   "cell_type": "code",
   "execution_count": 24,
   "metadata": {
    "collapsed": false
   },
   "outputs": [
    {
     "data": {
      "text/plain": [
       "Drama        144\n",
       "Action        88\n",
       "Thriller      80\n",
       "Adventure     79\n",
       "Comedy        54\n",
       "dtype: int64"
      ]
     },
     "execution_count": 24,
     "metadata": {},
     "output_type": "execute_result"
    }
   ],
   "source": [
    "#creating series for main-genres' frequency\n",
    "successful_main_genres = pd.Series(successful_main_genres.value_counts())\n",
    "successful_main_genres.head()"
   ]
  },
  {
   "cell_type": "code",
   "execution_count": 25,
   "metadata": {
    "collapsed": true
   },
   "outputs": [],
   "source": [
    "#function for adding index as column and renaming columns of dataframe formed\n",
    "def form_df(series,column_1,column_2):\n",
    "    df = series.reset_index()\n",
    "    df.rename(columns={df.columns[0]:column_1,df.columns[1]:column_2},inplace = True)\n",
    "    return df\n",
    "    "
   ]
  },
  {
   "cell_type": "code",
   "execution_count": 26,
   "metadata": {
    "collapsed": false
   },
   "outputs": [
    {
     "data": {
      "text/html": [
       "<div>\n",
       "<table border=\"1\" class=\"dataframe\">\n",
       "  <thead>\n",
       "    <tr style=\"text-align: right;\">\n",
       "      <th></th>\n",
       "      <th>genres</th>\n",
       "      <th>total_movies</th>\n",
       "    </tr>\n",
       "  </thead>\n",
       "  <tbody>\n",
       "    <tr>\n",
       "      <th>0</th>\n",
       "      <td>Drama</td>\n",
       "      <td>144</td>\n",
       "    </tr>\n",
       "    <tr>\n",
       "      <th>1</th>\n",
       "      <td>Action</td>\n",
       "      <td>88</td>\n",
       "    </tr>\n",
       "    <tr>\n",
       "      <th>2</th>\n",
       "      <td>Thriller</td>\n",
       "      <td>80</td>\n",
       "    </tr>\n",
       "    <tr>\n",
       "      <th>3</th>\n",
       "      <td>Adventure</td>\n",
       "      <td>79</td>\n",
       "    </tr>\n",
       "    <tr>\n",
       "      <th>4</th>\n",
       "      <td>Comedy</td>\n",
       "      <td>54</td>\n",
       "    </tr>\n",
       "  </tbody>\n",
       "</table>\n",
       "</div>"
      ],
      "text/plain": [
       "      genres  total_movies\n",
       "0      Drama           144\n",
       "1     Action            88\n",
       "2   Thriller            80\n",
       "3  Adventure            79\n",
       "4     Comedy            54"
      ]
     },
     "execution_count": 26,
     "metadata": {},
     "output_type": "execute_result"
    }
   ],
   "source": [
    "successful_main_genres = form_df(successful_main_genres,'genres','total_movies')\n",
    "successful_main_genres.head()"
   ]
  },
  {
   "cell_type": "code",
   "execution_count": 27,
   "metadata": {
    "collapsed": false
   },
   "outputs": [
    {
     "data": {
      "text/plain": [
       "<matplotlib.text.Text at 0xc939080>"
      ]
     },
     "execution_count": 27,
     "metadata": {},
     "output_type": "execute_result"
    },
    {
     "data": {
      "image/png": "[encoded data removed]",
      "text/plain": [
       "<matplotlib.figure.Figure at 0xc9f5048>"
      ]
     },
     "metadata": {},
     "output_type": "display_data"
    }
   ],
   "source": [
    "successful_main_genres.plot.bar(x='genres',y='total_movies')\n",
    "plt.xlabel('Genres')\n",
    "plt.ylabel('Number of Movies')\n",
    "plt.title('Number of movies per Genre')"
   ]
  },
  {
   "cell_type": "markdown",
   "metadata": {},
   "source": [
    "### Conclusion 1b: In conclusion 1a, we observe that drama was part a part of most multi-genres. And even after spilting multi-genres into main-genres, we can see that drama is also most pouplar main-genre as compared to other main_genres."
   ]
  },
  {
   "cell_type": "markdown",
   "metadata": {},
   "source": [
    "## 2nd Characteristic: Keywords"
   ]
  },
  {
   "cell_type": "code",
   "execution_count": 28,
   "metadata": {
    "collapsed": false
   },
   "outputs": [
    {
     "name": "stdout",
     "output_type": "stream",
     "text": [
      "keywords column contains 0 missing values and 0 negative or zero values\n"
     ]
    }
   ],
   "source": [
    "undesired_values(successful_movies,'keywords')"
   ]
  },
  {
   "cell_type": "code",
   "execution_count": 29,
   "metadata": {
    "collapsed": true
   },
   "outputs": [],
   "source": [
    "#creating series of keywords\n",
    "successful_keywords = ungroup(successful_movies,'keywords')"
   ]
  },
  {
   "cell_type": "code",
   "execution_count": 30,
   "metadata": {
    "collapsed": false,
    "scrolled": true
   },
   "outputs": [
    {
     "name": "stdout",
     "output_type": "stream",
     "text": [
      "Total number of keywords 1362.\n"
     ]
    },
    {
     "data": {
      "text/plain": [
       "based on novel                  23\n",
       "musical                         12\n",
       "prison                           9\n",
       "marvel comic                     9\n",
       "paris                            8\n",
       "dystopia                         8\n",
       "indian                           7\n",
       "world war ii                     7\n",
       "corruption                       7\n",
       "rape                             6\n",
       "animation                        6\n",
       "individual                       6\n",
       "suicide attempt                  6\n",
       "wife husband relationship        6\n",
       "future                           5\n",
       "sequel                           5\n",
       "chicago                          5\n",
       "hero                             5\n",
       "elves                            5\n",
       "san francisco                    5\n",
       "cutting the cord                 5\n",
       "friendship                       5\n",
       "brother brother relationship     5\n",
       "middle-earth (tolkien)           5\n",
       "secret identity                  5\n",
       "castle                           5\n",
       "orcs                             5\n",
       "new york                         5\n",
       "saving the world                 5\n",
       "terrorist                        4\n",
       "                                ..\n",
       "skateboarding                    1\n",
       "gangster                         1\n",
       "nun                              1\n",
       "orphan                           1\n",
       "intelligence                     1\n",
       "creator                          1\n",
       "disaster                         1\n",
       "trapped in space                 1\n",
       "fictional place                  1\n",
       "monarchy                         1\n",
       "jane austen                      1\n",
       "viking                           1\n",
       "cancer                           1\n",
       "commando                         1\n",
       "prequel                          1\n",
       "homesickness                     1\n",
       "games                            1\n",
       "monk                             1\n",
       "john f. kennedy                  1\n",
       "restaurant                       1\n",
       "fight                            1\n",
       "orphanage                        1\n",
       "pity                             1\n",
       "journey round the world          1\n",
       "poison                           1\n",
       "tax collector                    1\n",
       "shaman                           1\n",
       "guitar                           1\n",
       "killing                          1\n",
       "skeleton                         1\n",
       "dtype: int64"
      ]
     },
     "execution_count": 30,
     "metadata": {},
     "output_type": "execute_result"
    }
   ],
   "source": [
    "print(\"Total number of keywords {}.\".format(successful_keywords.count()))\n",
    "successful_keywords.value_counts()"
   ]
  },
  {
   "cell_type": "markdown",
   "metadata": {},
   "source": [
    "### Since total number of keywords are 1362. Therefore, studying only most successful keywords.\n",
    "### *Criteria for selecting most successful keywords --> Keyword should have frequency of atleast 6"
   ]
  },
  {
   "cell_type": "code",
   "execution_count": 31,
   "metadata": {
    "collapsed": false
   },
   "outputs": [],
   "source": [
    "common_keywords = successful_keywords.value_counts()[successful_keywords.value_counts() > 5]"
   ]
  },
  {
   "cell_type": "code",
   "execution_count": 32,
   "metadata": {
    "collapsed": false
   },
   "outputs": [
    {
     "data": {
      "text/html": [
       "<div>\n",
       "<table border=\"1\" class=\"dataframe\">\n",
       "  <thead>\n",
       "    <tr style=\"text-align: right;\">\n",
       "      <th></th>\n",
       "      <th>keyword</th>\n",
       "      <th>frequency</th>\n",
       "    </tr>\n",
       "  </thead>\n",
       "  <tbody>\n",
       "    <tr>\n",
       "      <th>0</th>\n",
       "      <td>based on novel</td>\n",
       "      <td>23</td>\n",
       "    </tr>\n",
       "    <tr>\n",
       "      <th>1</th>\n",
       "      <td>musical</td>\n",
       "      <td>12</td>\n",
       "    </tr>\n",
       "    <tr>\n",
       "      <th>2</th>\n",
       "      <td>prison</td>\n",
       "      <td>9</td>\n",
       "    </tr>\n",
       "    <tr>\n",
       "      <th>3</th>\n",
       "      <td>marvel comic</td>\n",
       "      <td>9</td>\n",
       "    </tr>\n",
       "    <tr>\n",
       "      <th>4</th>\n",
       "      <td>paris</td>\n",
       "      <td>8</td>\n",
       "    </tr>\n",
       "  </tbody>\n",
       "</table>\n",
       "</div>"
      ],
      "text/plain": [
       "          keyword  frequency\n",
       "0  based on novel         23\n",
       "1         musical         12\n",
       "2          prison          9\n",
       "3    marvel comic          9\n",
       "4           paris          8"
      ]
     },
     "execution_count": 32,
     "metadata": {},
     "output_type": "execute_result"
    }
   ],
   "source": [
    "#adding index as column\n",
    "common_keywords = form_df(common_keywords,'keyword','frequency')\n",
    "common_keywords.head()"
   ]
  },
  {
   "cell_type": "code",
   "execution_count": 33,
   "metadata": {
    "collapsed": false
   },
   "outputs": [
    {
     "data": {
      "text/plain": [
       "<matplotlib.text.Text at 0x9925c50>"
      ]
     },
     "execution_count": 33,
     "metadata": {},
     "output_type": "execute_result"
    },
    {
     "data": {
      "image/png": "[encoded data removed]",
      "text/plain": [
       "<matplotlib.figure.Figure at 0x99337f0>"
      ]
     },
     "metadata": {},
     "output_type": "display_data"
    }
   ],
   "source": [
    "common_keywords.plot.bar(x='keyword',y='frequency')\n",
    "plt.title('Frequency graph of common keywords present in successful movies')\n",
    "plt.xlabel('Keywords')\n",
    "plt.ylabel('Frequency')"
   ]
  },
  {
   "cell_type": "markdown",
   "metadata": {},
   "source": [
    "### Conclusion 2: \"based on novel\" is most common keyword among successful movies or in other words we can say, most successful movies were based on some novels.\n",
    "### Few surprising keywords were 'dystopia', 'rape' and 'suicide attempt' becuase they all show unplesant or bad environment. But still they perform well on box-office and among viewers too."
   ]
  },
  {
   "cell_type": "markdown",
   "metadata": {
    "collapsed": true
   },
   "source": [
    "\n",
    "\n",
    "## 3rd Characteristic: Release date\n",
    "### Question : Which month has maximum succesful movies."
   ]
  },
  {
   "cell_type": "code",
   "execution_count": 36,
   "metadata": {
    "collapsed": false,
    "scrolled": true
   },
   "outputs": [
    {
     "data": {
      "text/plain": [
       "id                               int64\n",
       "imdb_id                         object\n",
       "popularity                     float64\n",
       "original_title                  object\n",
       "cast                            object\n",
       "homepage                        object\n",
       "director                        object\n",
       "tagline                         object\n",
       "keywords                        object\n",
       "overview                        object\n",
       "runtime                          int64\n",
       "genres                          object\n",
       "production_companies            object\n",
       "release_date            datetime64[ns]\n",
       "vote_count                       int64\n",
       "vote_average                   float64\n",
       "release_year                     int64\n",
       "budget                         float64\n",
       "revenue                        float64\n",
       "dtype: object"
      ]
     },
     "execution_count": 36,
     "metadata": {},
     "output_type": "execute_result"
    }
   ],
   "source": [
    "#changing data type of release year to datetime\n",
    "successful_movies.loc[:,('release_date')] = pd.to_datetime(successful_movies.release_date)\n",
    "successful_movies.dtypes"
   ]
  },
  {
   "cell_type": "code",
   "execution_count": 37,
   "metadata": {
    "collapsed": false
   },
   "outputs": [
    {
     "data": {
      "text/plain": [
       "1     5\n",
       "3    12\n",
       "4     4\n",
       "5    12\n",
       "7     9\n",
       "Name: release_date, dtype: int64"
      ]
     },
     "execution_count": 37,
     "metadata": {},
     "output_type": "execute_result"
    }
   ],
   "source": [
    "successful_movies_month = successful_movies['release_date'].dt.month\n",
    "successful_movies_month.head()"
   ]
  },
  {
   "cell_type": "markdown",
   "metadata": {
    "collapsed": false
   },
   "source": [
    "### Months are represented by numbers, January=1 to December=12. \n",
    "### Therefore repalceing number by their respective month abbreviation."
   ]
  },
  {
   "cell_type": "code",
   "execution_count": 38,
   "metadata": {
    "collapsed": false
   },
   "outputs": [],
   "source": [
    "#replacing numbers by month abbreviation\n",
    "import calendar\n",
    "successful_movies_month = successful_movies_month.apply(lambda x: calendar.month_abbr[x])"
   ]
  },
  {
   "cell_type": "code",
   "execution_count": 39,
   "metadata": {
    "collapsed": false
   },
   "outputs": [],
   "source": [
    "#creating series, representing the fequency of each month\n",
    "successful_movies_month = successful_movies_month.value_counts()"
   ]
  },
  {
   "cell_type": "code",
   "execution_count": 40,
   "metadata": {
    "collapsed": false
   },
   "outputs": [
    {
     "data": {
      "text/html": [
       "<div>\n",
       "<table border=\"1\" class=\"dataframe\">\n",
       "  <thead>\n",
       "    <tr style=\"text-align: right;\">\n",
       "      <th></th>\n",
       "      <th>month</th>\n",
       "      <th>frequency</th>\n",
       "    </tr>\n",
       "  </thead>\n",
       "  <tbody>\n",
       "    <tr>\n",
       "      <th>0</th>\n",
       "      <td>Dec</td>\n",
       "      <td>58</td>\n",
       "    </tr>\n",
       "    <tr>\n",
       "      <th>1</th>\n",
       "      <td>Jun</td>\n",
       "      <td>36</td>\n",
       "    </tr>\n",
       "    <tr>\n",
       "      <th>2</th>\n",
       "      <td>Nov</td>\n",
       "      <td>33</td>\n",
       "    </tr>\n",
       "    <tr>\n",
       "      <th>3</th>\n",
       "      <td>May</td>\n",
       "      <td>28</td>\n",
       "    </tr>\n",
       "    <tr>\n",
       "      <th>4</th>\n",
       "      <td>Jul</td>\n",
       "      <td>26</td>\n",
       "    </tr>\n",
       "  </tbody>\n",
       "</table>\n",
       "</div>"
      ],
      "text/plain": [
       "  month  frequency\n",
       "0   Dec         58\n",
       "1   Jun         36\n",
       "2   Nov         33\n",
       "3   May         28\n",
       "4   Jul         26"
      ]
     },
     "execution_count": 40,
     "metadata": {},
     "output_type": "execute_result"
    }
   ],
   "source": [
    "#adding index as column and renaming them\n",
    "successful_movies_month = form_df(successful_movies_month,'month','frequency')\n",
    "successful_movies_month.head()"
   ]
  },
  {
   "cell_type": "markdown",
   "metadata": {},
   "source": [
    "#### Months are not ordered properly. Therefore, sorting dataframe, successful_movies_month in chronological order."
   ]
  },
  {
   "cell_type": "code",
   "execution_count": 41,
   "metadata": {
    "collapsed": false
   },
   "outputs": [],
   "source": [
    "month_order = ['Jan','Feb','Mar','Apr','May','Jun','Jul','Aug','Sep','Oct','Nov','Dec']\n",
    "\n",
    "successful_movies_month['month'] = successful_movies_month['month'].astype('category',categories = month_order, ordered = True)"
   ]
  },
  {
   "cell_type": "code",
   "execution_count": 42,
   "metadata": {
    "collapsed": false
   },
   "outputs": [
    {
     "data": {
      "text/html": [
       "<div>\n",
       "<table border=\"1\" class=\"dataframe\">\n",
       "  <thead>\n",
       "    <tr style=\"text-align: right;\">\n",
       "      <th></th>\n",
       "      <th>month</th>\n",
       "      <th>frequency</th>\n",
       "    </tr>\n",
       "  </thead>\n",
       "  <tbody>\n",
       "    <tr>\n",
       "      <th>11</th>\n",
       "      <td>Jan</td>\n",
       "      <td>3</td>\n",
       "    </tr>\n",
       "    <tr>\n",
       "      <th>10</th>\n",
       "      <td>Feb</td>\n",
       "      <td>10</td>\n",
       "    </tr>\n",
       "    <tr>\n",
       "      <th>9</th>\n",
       "      <td>Mar</td>\n",
       "      <td>12</td>\n",
       "    </tr>\n",
       "    <tr>\n",
       "      <th>8</th>\n",
       "      <td>Apr</td>\n",
       "      <td>12</td>\n",
       "    </tr>\n",
       "    <tr>\n",
       "      <th>3</th>\n",
       "      <td>May</td>\n",
       "      <td>28</td>\n",
       "    </tr>\n",
       "    <tr>\n",
       "      <th>1</th>\n",
       "      <td>Jun</td>\n",
       "      <td>36</td>\n",
       "    </tr>\n",
       "    <tr>\n",
       "      <th>4</th>\n",
       "      <td>Jul</td>\n",
       "      <td>26</td>\n",
       "    </tr>\n",
       "    <tr>\n",
       "      <th>7</th>\n",
       "      <td>Aug</td>\n",
       "      <td>18</td>\n",
       "    </tr>\n",
       "    <tr>\n",
       "      <th>6</th>\n",
       "      <td>Sep</td>\n",
       "      <td>19</td>\n",
       "    </tr>\n",
       "    <tr>\n",
       "      <th>5</th>\n",
       "      <td>Oct</td>\n",
       "      <td>24</td>\n",
       "    </tr>\n",
       "    <tr>\n",
       "      <th>2</th>\n",
       "      <td>Nov</td>\n",
       "      <td>33</td>\n",
       "    </tr>\n",
       "    <tr>\n",
       "      <th>0</th>\n",
       "      <td>Dec</td>\n",
       "      <td>58</td>\n",
       "    </tr>\n",
       "  </tbody>\n",
       "</table>\n",
       "</div>"
      ],
      "text/plain": [
       "   month  frequency\n",
       "11   Jan          3\n",
       "10   Feb         10\n",
       "9    Mar         12\n",
       "8    Apr         12\n",
       "3    May         28\n",
       "1    Jun         36\n",
       "4    Jul         26\n",
       "7    Aug         18\n",
       "6    Sep         19\n",
       "5    Oct         24\n",
       "2    Nov         33\n",
       "0    Dec         58"
      ]
     },
     "execution_count": 42,
     "metadata": {},
     "output_type": "execute_result"
    }
   ],
   "source": [
    "successful_movies_month = successful_movies_month.sort_values('month')\n",
    "successful_movies_month"
   ]
  },
  {
   "cell_type": "code",
   "execution_count": 43,
   "metadata": {
    "collapsed": false
   },
   "outputs": [
    {
     "data": {
      "text/plain": [
       "<matplotlib.text.Text at 0x96ddcc0>"
      ]
     },
     "execution_count": 43,
     "metadata": {},
     "output_type": "execute_result"
    },
    {
     "data": {
      "image/png": "[encoded data removed]",
      "text/plain": [
       "<matplotlib.figure.Figure at 0x96eec18>"
      ]
     },
     "metadata": {},
     "output_type": "display_data"
    }
   ],
   "source": [
    "successful_movies_month.plot.bar(x='month',y='frequency')\n",
    "plt.title('Total number of movies released in different month')\n",
    "plt.xlabel('Month')\n",
    "plt.ylabel('Number of Movies')"
   ]
  },
  {
   "cell_type": "markdown",
   "metadata": {},
   "source": [
    "### Conclusion 3: Most successful movies were released in December followed by June. In december, we have christmas hoilydays (atleast children studying in college and schools) and in June, we have summer vaction. So, we can ASSUME (we can only assume beacuse of limitations, explained later) that most successful movies were release on hoildays time.\n",
    "### 4th characteristic: Cast"
   ]
  },
  {
   "cell_type": "code",
   "execution_count": 44,
   "metadata": {
    "collapsed": false
   },
   "outputs": [
    {
     "name": "stdout",
     "output_type": "stream",
     "text": [
      "cast column contains 0 missing values and 0 negative or zero values\n"
     ]
    }
   ],
   "source": [
    "undesired_values(successful_movies,'cast')"
   ]
  },
  {
   "cell_type": "code",
   "execution_count": 45,
   "metadata": {
    "collapsed": false
   },
   "outputs": [],
   "source": [
    "#pandas series to successful artist\n",
    "successful_artist= ungroup(successful_movies,'cast')"
   ]
  },
  {
   "cell_type": "code",
   "execution_count": 46,
   "metadata": {
    "collapsed": false
   },
   "outputs": [],
   "source": [
    "#pandas series of common artist in successful movies\n",
    "common_artist = successful_artist.value_counts()"
   ]
  },
  {
   "cell_type": "code",
   "execution_count": 47,
   "metadata": {
    "collapsed": false,
    "scrolled": true
   },
   "outputs": [
    {
     "data": {
      "text/plain": [
       "957"
      ]
     },
     "execution_count": 47,
     "metadata": {},
     "output_type": "execute_result"
    }
   ],
   "source": [
    "common_artist.count()"
   ]
  },
  {
   "cell_type": "markdown",
   "metadata": {
    "collapsed": true
   },
   "source": [
    "### Since total number of artist are 957. Therefore, studying only those artist, who were casted in more than 5 movies"
   ]
  },
  {
   "cell_type": "code",
   "execution_count": 48,
   "metadata": {
    "collapsed": false
   },
   "outputs": [],
   "source": [
    "common_artist = common_artist[common_artist > 5]"
   ]
  },
  {
   "cell_type": "code",
   "execution_count": 49,
   "metadata": {
    "collapsed": false
   },
   "outputs": [
    {
     "data": {
      "text/plain": [
       "Tom Hanks              13\n",
       "Leonardo DiCaprio       9\n",
       "Brad Pitt               9\n",
       "Samuel L. Jackson       8\n",
       "Rupert Grint            8\n",
       "Daniel Radcliffe        8\n",
       "Emma Watson             8\n",
       "Matt Damon              8\n",
       "Dustin Hoffman          7\n",
       "Harrison Ford           7\n",
       "Robert De Niro          7\n",
       "Clint Eastwood          6\n",
       "Gary Oldman             6\n",
       "Ian McKellen            6\n",
       "Al Pacino               6\n",
       "Anne Hathaway           6\n",
       "Christopher Plummer     6\n",
       "dtype: int64"
      ]
     },
     "execution_count": 49,
     "metadata": {},
     "output_type": "execute_result"
    }
   ],
   "source": [
    "common_artist"
   ]
  },
  {
   "cell_type": "code",
   "execution_count": 50,
   "metadata": {
    "collapsed": true
   },
   "outputs": [],
   "source": [
    "#adding index as column\n",
    "common_artist = form_df(common_artist,'artist','frequency')"
   ]
  },
  {
   "cell_type": "code",
   "execution_count": 51,
   "metadata": {
    "collapsed": false
   },
   "outputs": [
    {
     "data": {
      "text/plain": [
       "<matplotlib.text.Text at 0xd13bba8>"
      ]
     },
     "execution_count": 51,
     "metadata": {},
     "output_type": "execute_result"
    },
    {
     "data": {
      "image/png": "[encoded data removed]",
      "text/plain": [
       "<matplotlib.figure.Figure at 0x96f1860>"
      ]
     },
     "metadata": {},
     "output_type": "display_data"
    }
   ],
   "source": [
    "common_artist.plot.bar(x='artist',y='frequency')\n",
    "plt.title('Number of times various artist casted in successful movies')\n",
    "plt.xlabel('Artist Name')\n",
    "plt.ylabel('Number of movies')"
   ]
  },
  {
   "cell_type": "markdown",
   "metadata": {},
   "source": [
    "### Conclusion 4: Tom Hanks has done most successful movies among all artists. Followed by Leonardo DiCaprio, Brat Pitt and Samuel L. Jackson. \n",
    "\n",
    "### Emma watson, Daniel Radcliffe and Rupert Grint were casted in total 8 'successful movies' which implies that all Harry potter movies were 'successful' as all three actors were casted in all harry potter movies.\n",
    "### 5th characteristic : runtime"
   ]
  },
  {
   "cell_type": "code",
   "execution_count": 52,
   "metadata": {
    "collapsed": false
   },
   "outputs": [
    {
     "name": "stdout",
     "output_type": "stream",
     "text": [
      "runtime column contains 0 missing values and 0 negative or zero values\n"
     ]
    }
   ],
   "source": [
    "undesired_values(successful_movies,'runtime')"
   ]
  },
  {
   "cell_type": "code",
   "execution_count": 53,
   "metadata": {
    "collapsed": false
   },
   "outputs": [],
   "source": [
    "#creating series of movie runtime\n",
    "movies_runtime = successful_movies.runtime"
   ]
  },
  {
   "cell_type": "code",
   "execution_count": 54,
   "metadata": {
    "collapsed": false
   },
   "outputs": [
    {
     "name": "stdout",
     "output_type": "stream",
     "text": [
      "count           279.0\n",
      "mean    126.838709677\n",
      "std     25.2923725198\n",
      "min              78.0\n",
      "25%             108.0\n",
      "50%             125.0\n",
      "75%             140.0\n",
      "max             216.0\n",
      "Name: runtime, dtype: float64\n"
     ]
    },
    {
     "data": {
      "text/plain": [
       "<matplotlib.text.Text at 0xd426390>"
      ]
     },
     "execution_count": 54,
     "metadata": {},
     "output_type": "execute_result"
    },
    {
     "data": {
      "image/png": "[encoded data removed]",
      "text/plain": [
       "<matplotlib.figure.Figure at 0xd132c88>"
      ]
     },
     "metadata": {},
     "output_type": "display_data"
    }
   ],
   "source": [
    "print (movies_runtime.describe())\n",
    "\n",
    "plt.hist(movies_runtime)\n",
    "plt.xlabel('Runtime')\n",
    "plt.ylabel('Number of Movies')\n",
    "plt.title('Distribution of movies-runtime')"
   ]
  },
  {
   "cell_type": "markdown",
   "metadata": {},
   "source": [
    "### Conclusion 5: Maximum successful movies had runtime between 120 to 135 minutes. And average time of successful movie is 130 minutes"
   ]
  },
  {
   "cell_type": "markdown",
   "metadata": {
    "collapsed": true
   },
   "source": [
    "# Limitions And Final Conclusion:\n",
    "#### *In below dicussion, 'successful movie' means highest grossing and highest user rated movie. 'budget' and 'revenue' refer to data present in 'budget_adj' and 'revenue_adj' columns\n",
    "\n",
    "## Limitions:\n",
    "1. For investigation of successful movies, we neeeded to find difference between revenue and budget values. During data cleaning we found that about 5696 budget and 6016 revenue values were either negative or zero. So, we have drop all rows(movies) containing such values, i.e., atleast 6016 movies were removed from database and given that total movies were 10866, we have reduced sample size to its 50%. \n",
    "2. We can only estiamtes different features of a popultion, if we have a bigger sample set. Given that, we had already reduced our sample size to its 50%, We can't estimate different features of population. And since we know, correlation does not implies causation. \n",
    "#### So,We can only show common characteristic/features that we found in our small smaple set.\n",
    "\n",
    "## Conclusion:\n",
    "### During study we found following results regarding different features of successful movies:\n",
    "\n",
    "1. Genres: Drama was most popular or common among the successful movies, both as main genre and as a part of multi-genre. Drama-Romance was most common cross-genre among successful movies.\n",
    "\n",
    "2. Keywords: 'based on novel' was common keywords among successful movies. In other words movies that were based on a novel was both successful on box-office and among viewers too. Few surprising keywords were 'dystopia', 'rape' and 'suicide attempt' becuase they all show unplesant or bad environment. But still they perform well on box-office and among viewers too. \n",
    "\n",
    "3. Release month: Most successful movies were released in December followed by June. In december, we have christmas hoilydays (atleast children who are in colleges and schools) and in June, we have summer vaction. So, we can ASSUME that most successful movies WERE release during hoilday time.\n",
    "\n",
    "4. Cast: Tom Hanks has done most successful movies among all artists. Followed by Leonardo DiCaprio, Brat Pitt and Samuel L. Jackson. Emma watson, Daniel Radcliffe and Rupert Grint were casted in total 8 'successful movies' which implies that all Harry potter movies were 'successful'.\n",
    "\n",
    "5. Movie Runtime: Average runtime of successful movies is 130 minutes. Maximum successful movies have runtime between 120 to 135 minutes.\n"
   ]
  }
 ],
 "metadata": {
  "anaconda-cloud": {},
  "kernelspec": {
   "display_name": "Python [conda env:DAND]",
   "language": "python",
   "name": "conda-env-DAND-py"
  },
  "language_info": {
   "codemirror_mode": {
    "name": "ipython",
    "version": 2
   },
   "file_extension": ".py",
   "mimetype": "text/x-python",
   "name": "python",
   "nbconvert_exporter": "python",
   "pygments_lexer": "ipython2",
   "version": "2.7.12"
  }
 },
 "nbformat": 4,
 "nbformat_minor": 2
}
